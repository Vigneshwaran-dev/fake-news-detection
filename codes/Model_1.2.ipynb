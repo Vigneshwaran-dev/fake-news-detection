{
 "cells": [
  {
   "cell_type": "code",
   "execution_count": null,
   "metadata": {
    "id": "57Jz0YqPMr_u"
   },
   "outputs": [],
   "source": [
    "from google.colab import drive\n",
    "import pandas as pd\n",
    "import tensorflow as tf\n",
    "from transformers import DistilBertTokenizerFast, TFDistilBertForSequenceClassification\n",
    "from sklearn.model_selection import train_test_split"
   ]
  },
  {
   "cell_type": "code",
   "execution_count": null,
   "metadata": {
    "colab": {
     "base_uri": "https://localhost:8080/"
    },
    "executionInfo": {
     "elapsed": 35353,
     "status": "ok",
     "timestamp": 1745823862676,
     "user": {
      "displayName": "V I G N E S H W A R A N",
      "userId": "09613162237478599594"
     },
     "user_tz": -330
    },
    "id": "cz6cqavMNUSS",
    "outputId": "7839b89b-896e-41ee-d60f-314c1726fb7a"
   },
   "outputs": [
    {
     "name": "stdout",
     "output_type": "stream",
     "text": [
      "Mounted at /content/drive\n"
     ]
    }
   ],
   "source": [
    "drive.mount('/content/drive')"
   ]
  },
  {
   "cell_type": "code",
   "execution_count": null,
   "metadata": {
    "id": "AkoF5UyWNlN_"
   },
   "outputs": [],
   "source": [
    "MODEL_PATH = '/content/drive/MyDrive/FakeNewsModel 1.1'\n",
    "NEW_DATA_PATH = '/content/drive/MyDrive/Datasets/news_dataset.csv'  \n",
    "SAVE_PATH = '/content/drive/MyDrive/FakeNewsModel 1.2'  \n"
   ]
  },
  {
   "cell_type": "code",
   "execution_count": null,
   "metadata": {
    "colab": {
     "base_uri": "https://localhost:8080/"
    },
    "executionInfo": {
     "elapsed": 11462,
     "status": "ok",
     "timestamp": 1745824071282,
     "user": {
      "displayName": "V I G N E S H W A R A N",
      "userId": "09613162237478599594"
     },
     "user_tz": -330
    },
    "id": "3epmhcGaOMoM",
    "outputId": "aad6f91a-3895-445c-c9a9-604972d8cfdd"
   },
   "outputs": [
    {
     "name": "stdout",
     "output_type": "stream",
     "text": [
      "\n",
      "Total samples: 3729\n",
      "Class distribution:\n",
      "label\n",
      "1    1877\n",
      "0    1852\n",
      "Name: count, dtype: int64\n"
     ]
    }
   ],
   "source": [
    "try:\n",
    "    data = pd.read_csv(NEW_DATA_PATH)\n",
    "    data['text'] = data['text'].astype(str)  \n",
    "\n",
    "    data['label'] = data['label'].apply(\n",
    "        lambda x: 0 if str(x).lower().strip() in ['real', 'true'] else 1\n",
    "    )\n",
    "\n",
    "    print(f\"\\nTotal samples: {len(data)}\")\n",
    "    print(\"Class distribution:\")\n",
    "    print(data['label'].value_counts())\n",
    "\n",
    "except Exception as e:\n",
    "    print(f\"\\nError loading data: {e}\")\n",
    "    raise\n"
   ]
  },
  {
   "cell_type": "code",
   "execution_count": null,
   "metadata": {
    "id": "RF2imo-0OXZv"
   },
   "outputs": [],
   "source": [
    "train_texts, test_texts, train_labels, test_labels = train_test_split(\n",
    "    data['text'].values,\n",
    "    data['label'].values,\n",
    "    test_size=0.2,\n",
    "    random_state=42\n",
    ")"
   ]
  },
  {
   "cell_type": "code",
   "execution_count": null,
   "metadata": {
    "colab": {
     "base_uri": "https://localhost:8080/"
    },
    "executionInfo": {
     "elapsed": 6836,
     "status": "ok",
     "timestamp": 1745824116554,
     "user": {
      "displayName": "V I G N E S H W A R A N",
      "userId": "09613162237478599594"
     },
     "user_tz": -330
    },
    "id": "n3Tz_7a9OcJd",
    "outputId": "9d8b00cf-ee35-4046-b9ca-8f56d5ae3c28"
   },
   "outputs": [
    {
     "name": "stdout",
     "output_type": "stream",
     "text": [
      "\n",
      "Loading existing model...\n"
     ]
    },
    {
     "name": "stderr",
     "output_type": "stream",
     "text": [
      "All model checkpoint layers were used when initializing TFDistilBertForSequenceClassification.\n",
      "\n",
      "All the layers of TFDistilBertForSequenceClassification were initialized from the model checkpoint at /content/drive/MyDrive/FakeNewsModel 1.1.\n",
      "If your task is similar to the task the model of the checkpoint was trained on, you can already use TFDistilBertForSequenceClassification for predictions without further training.\n"
     ]
    },
    {
     "name": "stdout",
     "output_type": "stream",
     "text": [
      "Successfully loaded existing model!\n"
     ]
    }
   ],
   "source": [
    "try:\n",
    "    print(\"\\nLoading existing model...\")\n",
    "    tokenizer = DistilBertTokenizerFast.from_pretrained(MODEL_PATH)\n",
    "    model = TFDistilBertForSequenceClassification.from_pretrained(MODEL_PATH)\n",
    "    print(\"Successfully loaded existing model!\")\n",
    "except Exception as e:\n",
    "    print(f\"\\nFailed to load model: {e}\")\n",
    "    print(\"Initializing new model instead...\")\n",
    "    tokenizer = DistilBertTokenizerFast.from_pretrained('distilbert-base-uncased')\n",
    "    model = TFDistilBertForSequenceClassification.from_pretrained(\n",
    "        'distilbert-base-uncased',\n",
    "        num_labels=2\n",
    "    )"
   ]
  },
  {
   "cell_type": "code",
   "execution_count": null,
   "metadata": {
    "id": "b_Jtz1NIOiPR"
   },
   "outputs": [],
   "source": [
    "train_encodings = tokenizer(list(train_texts), truncation=True, padding=True, max_length=128)\n",
    "test_encodings = tokenizer(list(test_texts), truncation=True, padding=True, max_length=128)"
   ]
  },
  {
   "cell_type": "code",
   "execution_count": null,
   "metadata": {
    "id": "TWJixC1QOnOu"
   },
   "outputs": [],
   "source": [
    "def create_tf_dataset(encodings, labels):\n",
    "    return tf.data.Dataset.from_tensor_slices((\n",
    "        {\n",
    "            'input_ids': encodings['input_ids'],\n",
    "            'attention_mask': encodings['attention_mask']\n",
    "        },\n",
    "        labels\n",
    "    )).batch(16)\n",
    "\n",
    "train_dataset = create_tf_dataset(train_encodings, train_labels)\n",
    "test_dataset = create_tf_dataset(test_encodings, test_labels)\n"
   ]
  },
  {
   "cell_type": "code",
   "execution_count": null,
   "metadata": {
    "id": "RouLhYkPOqSi"
   },
   "outputs": [],
   "source": [
    "model.compile(\n",
    "    optimizer=tf.keras.optimizers.Adam(learning_rate=5e-5),\n",
    "    loss=tf.keras.losses.SparseCategoricalCrossentropy(from_logits=True),\n",
    "    metrics=['accuracy']\n",
    ")\n"
   ]
  },
  {
   "cell_type": "code",
   "execution_count": null,
   "metadata": {
    "colab": {
     "base_uri": "https://localhost:8080/"
    },
    "executionInfo": {
     "elapsed": 219507,
     "status": "ok",
     "timestamp": 1745824400946,
     "user": {
      "displayName": "V I G N E S H W A R A N",
      "userId": "09613162237478599594"
     },
     "user_tz": -330
    },
    "id": "nZ8l_JUvOtxL",
    "outputId": "3eecee20-2da9-4e95-d98c-0f132847cea1"
   },
   "outputs": [
    {
     "name": "stdout",
     "output_type": "stream",
     "text": [
      "\n",
      "Starting retraining...\n",
      "Epoch 1/3\n",
      "187/187 [==============================] - 69s 239ms/step - loss: 0.0587 - accuracy: 0.9799 - val_loss: 0.0178 - val_accuracy: 0.9946\n",
      "Epoch 2/3\n",
      "187/187 [==============================] - 41s 218ms/step - loss: 0.0132 - accuracy: 0.9960 - val_loss: 0.0141 - val_accuracy: 0.9933\n",
      "Epoch 3/3\n",
      "187/187 [==============================] - 43s 233ms/step - loss: 0.0027 - accuracy: 0.9990 - val_loss: 0.0120 - val_accuracy: 0.9987\n"
     ]
    }
   ],
   "source": [
    "print(\"\\nStarting retraining...\")\n",
    "history = model.fit(\n",
    "    train_dataset,\n",
    "    epochs=3,\n",
    "    validation_data=test_dataset\n",
    ")\n"
   ]
  },
  {
   "cell_type": "code",
   "execution_count": null,
   "metadata": {
    "colab": {
     "base_uri": "https://localhost:8080/",
     "height": 472
    },
    "executionInfo": {
     "elapsed": 741,
     "status": "ok",
     "timestamp": 1745825251379,
     "user": {
      "displayName": "V I G N E S H W A R A N",
      "userId": "09613162237478599594"
     },
     "user_tz": -330
    },
    "id": "LcR0UpEeP0_5",
    "outputId": "d7024b83-6f91-486c-bee6-2dc8c0452b22"
   },
   "outputs": [
    {
     "data": {
      "image/png": "[encoded data removed]",
      "text/plain": [
       "<Figure size 640x480 with 1 Axes>"
      ]
     },
     "metadata": {},
     "output_type": "display_data"
    }
   ],
   "source": [
    "import matplotlib.pyplot as plt\n",
    "\n",
    "plt.plot(history.history['accuracy'], label='Train Accuracy')\n",
    "plt.plot(history.history['val_accuracy'], label='Validation Accuracy')\n",
    "plt.title('Model Accuracy')\n",
    "plt.ylabel('Accuracy')\n",
    "plt.xlabel('Epoch')\n",
    "plt.legend()\n",
    "plt.savefig('/content/drive/MyDrive/train1.2.png', dpi=300, bbox_inches='tight')\n",
    "plt.show()"
   ]
  },
  {
   "cell_type": "code",
   "execution_count": null,
   "metadata": {
    "colab": {
     "base_uri": "https://localhost:8080/"
    },
    "executionInfo": {
     "elapsed": 7841,
     "status": "ok",
     "timestamp": 1745824593664,
     "user": {
      "displayName": "V I G N E S H W A R A N",
      "userId": "09613162237478599594"
     },
     "user_tz": -330
    },
    "id": "jILj-1m_QQaQ",
    "outputId": "9bf259b8-b000-4b48-894a-623dda5087fd"
   },
   "outputs": [
    {
     "name": "stdout",
     "output_type": "stream",
     "text": [
      "\n",
      "Retrained model saved to /content/drive/MyDrive/FakeNewsModel 1.2\n"
     ]
    }
   ],
   "source": [
    "model.save_pretrained(SAVE_PATH)\n",
    "tokenizer.save_pretrained(SAVE_PATH)\n",
    "print(f\"\\nRetrained model saved to {SAVE_PATH}\")"
   ]
  },
  {
   "cell_type": "code",
   "execution_count": null,
   "metadata": {
    "colab": {
     "base_uri": "https://localhost:8080/"
    },
    "executionInfo": {
     "elapsed": 5726,
     "status": "ok",
     "timestamp": 1745824619073,
     "user": {
      "displayName": "V I G N E S H W A R A N",
      "userId": "09613162237478599594"
     },
     "user_tz": -330
    },
    "id": "fkk9T7EQQXQi",
    "outputId": "5d8cc5b6-f795-40f5-d9a1-df2386b01e96"
   },
   "outputs": [
    {
     "name": "stdout",
     "output_type": "stream",
     "text": [
      "47/47 [==============================] - 3s 71ms/step - loss: 0.0120 - accuracy: 0.9987\n",
      "\n",
      "Final Test Accuracy: 99.87%\n",
      "Test Loss: 0.0120\n"
     ]
    }
   ],
   "source": [
    "loss, accuracy = model.evaluate(test_dataset)\n",
    "print(f\"\\nFinal Test Accuracy: {accuracy:.2%}\")\n",
    "print(f\"Test Loss: {loss:.4f}\")"
   ]
  }
 ],
 "metadata": {
  "accelerator": "GPU",
  "colab": {
   "authorship_tag": "ABX9TyOdpvKl/o0drgBpeF6Gb+Za",
   "gpuType": "T4",
   "provenance": []
  },
  "kernelspec": {
   "display_name": "Python 3",
   "name": "python3"
  },
  "language_info": {
   "name": "python"
  }
 },
 "nbformat": 4,
 "nbformat_minor": 0
}
